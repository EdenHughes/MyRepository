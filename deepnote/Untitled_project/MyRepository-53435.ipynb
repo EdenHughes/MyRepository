{
  "cells": [
    {
      "cell_type": "markdown",
      "source": "This is a test of the git export",
      "metadata": {
        "cell_id": "8ae09781881a45099e5f503323c0af9d",
        "formattedRanges": [],
        "deepnote_cell_type": "text-cell-p"
      }
    },
    {
      "cell_type": "markdown",
      "source": "",
      "metadata": {
        "cell_id": "96317f52-ea2d-47a4-8df8-bd595f734ab9",
        "formattedRanges": [],
        "deepnote_cell_type": "text-cell-p"
      }
    },
    {
      "cell_type": "markdown",
      "source": "<img src=\"https://apps.novasbe.pt/NovaMobility/resources/assets/images/nova_logo.png\" width=\"300\">",
      "metadata": {
        "cell_id": "b41cee0a6d9b42c198e15d9ea420a2ed",
        "deepnote_cell_type": "markdown"
      }
    },
    {
      "cell_type": "markdown",
      "source": "<center> <h1> Assignment 2 </h1></center>",
      "metadata": {
        "cell_id": "dc133c170f0540bf90b21572d7aa71c2",
        "deepnote_cell_type": "markdown"
      }
    },
    {
      "cell_type": "markdown",
      "source": "Instructions:",
      "metadata": {
        "cell_id": "199b464dce2642369d5dd9b917b426ea",
        "deepnote_cell_type": "markdown"
      }
    },
    {
      "cell_type": "markdown",
      "source": "1. Press `'File' -> 'Rename notebook'` and rename to your student id (ex: 40000.ipynb)\n2. Complete assignment\n3. Save the .ipynb file by clicking `'File' -> 'Save notebook'` and submit it via Moodle",
      "metadata": {
        "cell_id": "3e81b075d38042b78eb9710cddf56f96",
        "deepnote_cell_type": "markdown"
      }
    },
    {
      "cell_type": "markdown",
      "source": "**You must use the cells provided to answer the questions and make sure to use the variable names exactly as provided.**",
      "metadata": {
        "cell_id": "6227db885b364a33b77bbb28172caa33",
        "deepnote_cell_type": "markdown"
      }
    },
    {
      "cell_type": "code",
      "source": "###################\n## RUN THIS CELL ##\n###################\nfrom tests_assignment_2 import * #run this cell to import the necessary tests",
      "metadata": {
        "cell_id": "3d853e8caa6041b8bfe166f47bae1873",
        "source_hash": "d8a65f20",
        "output_cleared": false,
        "execution_start": 1664908262892,
        "execution_millis": 36,
        "deepnote_to_be_reexecuted": false,
        "deepnote_cell_type": "code"
      },
      "outputs": [],
      "execution_count": 1
    },
    {
      "cell_type": "markdown",
      "source": "<center> <h1> Tiny social network </h1></center>\n\nIn this assignment you will work with a very small social network. The network is represented in the dictionary `members` defined in the cell below. This dictionary is structured as follows:\n+ The key represents the internal **user identifier** (from 1 to 20).\n+ The value is a dictionary with the information of each user:\n    + `name` is the user's full name.\n    + `country` is the user's country of residence.\n    + `following` is a list of user identifiers that the user is currently following.\n        + If the list is empty it means the user is not following anyone\n\n**Run the following cell before solving the exercises.**",
      "metadata": {
        "cell_id": "0941e0da4b7741c7bb67755d17b49709",
        "deepnote_cell_type": "markdown"
      }
    },
    {
      "cell_type": "code",
      "source": "# Run this cell before solving the exercises.\n\nmembers = {\n    1: {\"name\": \"Farly Waller\", \"country\": \"Russia\", \"following\": [11, 18, 17, 20]},\n    2: {\"name\": \"Jania Hardistry\", \"country\": \"Indonesia\", \"following\": [3, 8, 15, 20]},\n    3: {\"name\": \"Yale Shortan\", \"country\": \"Brazil\", \"following\": [2, 4, 8]},\n    4: {\"name\": \"Redford Melloi\", \"country\": \"Philippines\", \"following\": [1, 3, 13, 14]},\n    5: {\"name\": \"Lisbeth Cello\", \"country\": \"Pakistan\", \"following\": [4, 7, 10]},\n    6: {\"name\": \"Andrew Flaonier\", \"country\": \"Pakistan\", \"following\": []},\n    7: {\"name\": \"Pris Pilmore\", \"country\": \"Japan\", \"following\": [5, 6, 9, 1, 15, 16]},\n    8: {\"name\": \"Starla Buffey\", \"country\": \"Colombia\", \"following\": [10, 2, 3]},\n    9: {\"name\": \"Clark Goymer\", \"country\": \"Thailand\", \"following\": [7, 11]},\n    10: {\"name\": \"Gayle Testin\", \"country\": \"Brazil\", \"following\": [8, 5, 15, 19, 13]},\n    11: {\"name\": \"Serena Brombell\", \"country\": \"China\", \"following\": [1, 17, 18]},\n    12: {\"name\": \"Wendy Toke\", \"country\": \"Peru\", \"following\": []},\n    13: {\"name\": \"Clarice Shelmardine\", \"country\": \"Portugal\", \"following\": [10, 1, 14, 15, 16, 19]},\n    14: {\"name\": \"Julie Corradeschi\", \"country\": \"Peru\", \"following\": [13, 1, 2, 4]},\n    15: {\"name\": \"Constantin Sebire\", \"country\": \"China\", \"following\": [3, 10, 13, 16, 18]},\n    16: {\"name\": \"Annadiane Mum\", \"country\": \"Japan\", \"following\": [7, 13, 6, 18]},\n    17: {\"name\": \"Lovell Lubbock\", \"country\": \"China\", \"following\": [1, 11, 20]},\n    18: {\"name\": \"Gwynne Toplis\", \"country\": \"China\", \"following\": [1, 11, 16, 17]},\n    19: {\"name\": \"Pammy Urey\", \"country\": \"Yemen\", \"following\": [10, 6, 13, 20]},\n    20: {\"name\": \"Celestina Phillipps\", \"country\": \"Canada\", \"following\": [3, 17]},\n}",
      "metadata": {
        "cell_id": "6401e60fe0df4b328a8343e7c1543b4f",
        "source_hash": "31872dcc",
        "execution_start": 1664908263048,
        "execution_millis": 1,
        "deepnote_to_be_reexecuted": false,
        "deepnote_cell_type": "code"
      },
      "outputs": [],
      "execution_count": 2
    },
    {
      "cell_type": "markdown",
      "source": "#### 1.1 Who is alone? (2pt)\n\nGenerate a list of all members who are not following anyone and assign it to variable `alone` in the cell below. This should be a list of **user identifiers**.",
      "metadata": {
        "cell_id": "1789a266a96b4d7cbe59c5cac38258f7",
        "deepnote_cell_type": "markdown"
      }
    },
    {
      "cell_type": "code",
      "source": "alone = []\n# your solution here\nfor key in members:\n    if members[key][\"following\"]==[]:\n        alone.append(key)\nalone",
      "metadata": {
        "cell_id": "f32120ab00a24e08b6eba504f82c17ff",
        "source_hash": "89bc0a8e",
        "execution_start": 1664908263626,
        "execution_millis": 1,
        "deepnote_to_be_reexecuted": false,
        "deepnote_cell_type": "code"
      },
      "outputs": [
        {
          "data": {
            "text/plain": "[6, 12]"
          },
          "execution_count": 3,
          "metadata": {},
          "output_type": "execute_result"
        }
      ],
      "execution_count": 3
    },
    {
      "cell_type": "code",
      "source": "test_ex_1_1(members, alone)",
      "metadata": {
        "cell_id": "4257ea952d754f519a4e892c867aeeaa",
        "source_hash": "2e33901e",
        "execution_start": 1664908264044,
        "execution_millis": 643,
        "deepnote_to_be_reexecuted": false,
        "deepnote_cell_type": "code"
      },
      "outputs": [
        {
          "name": "stdout",
          "output_type": "stream",
          "text": "All basic tests passed!\n"
        }
      ],
      "execution_count": 4
    },
    {
      "cell_type": "markdown",
      "source": "#### 1.2 Who are my followers? (3pt)\n\nThe `members` dictionary tells us who is following who, but not who is followed by who. In this exercise you are to generate a dictionary, assigned to the variable `followers`, with the list of followers grouped by user identifier. Note that the result should also include users who have no followers. The structure of the `followers` dictionary is:\n+ The key should be the **user identifier**.\n+ The value should be a list of user identifiers that are following the user, or the empty list if the user has no followers.\n\n**Note**: The order of the value lists in the dictionary is irrelevant to the correctness of the exercise.\n\n**Examples**:\n+ For user `5`, the value should be the list `[7, 10]`.\n+ For user `1`, the value should be the list `[4, 7, 11, 13, 14, 17, 18]`.\n+ For user `12`, the value should be the empty list (`[]`).\n\n**Hint**: Do not try to do everything all at once. Probably a good first step will be to programatically create your `followers` dictionary with the keys that you need and a value that will allow you store what you want later. Do not hard code the `followers` dictionary. It is also possible to do all at once but make sure you understand the logic if you decide to so.",
      "metadata": {
        "cell_id": "58183dc26fc94208b0caec22f9e01370",
        "deepnote_cell_type": "markdown"
      }
    },
    {
      "cell_type": "code",
      "source": "followers = {}{}\n# your solution here\n\nfor user in members:\n    followers[user]=[]\n    for key in members:\n        if user in members[key][\"following\"]:\n            followers[user].append(key)\n   \n    \nfollowers",
      "metadata": {
        "cell_id": "b00b2234b0054dee98d848ef62b72eff",
        "source_hash": "1d9a9cc1",
        "execution_start": 1664908947298,
        "execution_millis": 1,
        "deepnote_to_be_reexecuted": false,
        "deepnote_cell_type": "code"
      },
      "outputs": [
        {
          "data": {
            "text/plain": "{1: [4, 7, 11, 13, 14, 17, 18],\n 2: [3, 8, 14],\n 3: [2, 4, 8, 15, 20],\n 4: [3, 5, 14],\n 5: [7, 10],\n 6: [7, 16, 19],\n 7: [5, 9, 16],\n 8: [2, 3, 10],\n 9: [7],\n 10: [5, 8, 13, 15, 19],\n 11: [1, 9, 17, 18],\n 12: [],\n 13: [4, 10, 14, 15, 16, 19],\n 14: [4, 13],\n 15: [2, 7, 10, 13],\n 16: [7, 13, 15, 18],\n 17: [1, 11, 18, 20],\n 18: [1, 11, 15, 16],\n 19: [10, 13],\n 20: [1, 2, 17, 19]}"
          },
          "execution_count": 5,
          "metadata": {},
          "output_type": "execute_result"
        }
      ],
      "execution_count": 5
    },
    {
      "cell_type": "code",
      "source": "test_ex_1_2(members, followers)",
      "metadata": {
        "cell_id": "b5e158fa45f945a898cf142b8d68b90c",
        "source_hash": "57171278",
        "execution_start": 1664908948386,
        "execution_millis": 4,
        "deepnote_to_be_reexecuted": false,
        "deepnote_cell_type": "code"
      },
      "outputs": [
        {
          "name": "stdout",
          "output_type": "stream",
          "text": "All basic tests passed!\n"
        }
      ],
      "execution_count": 6
    },
    {
      "cell_type": "markdown",
      "source": "#### 1.3 Who are my friends? (4pt)\n\nA friend is someone who you follow that follows you back. In this exercise you are to generate a dictionary, assigned to variable `friends`, with the list of friends grouped by the user identifier. Note that the result should also include users who have no friends. The structure of the `friends` dictionary is:\n+ The key should be the user identifier.\n+ The value should be a list of user identifiers that are friends with the user, or the empty list if the user has no friends.\n\n**Note**: The order of the value lists in the dictionary is irrelevant to the correctness of the exercise.\n\n**Hint**: Use the `followers` dictionary defined in the previous exercise.\n\n**Examples**:\n+ For user `2`, the value should be the list `[3, 8]`.\n+ For user `12`, the value should be the empty list (`[]`).\n+ For user `17`, the value should be the list `[1, 11, 20]`.",
      "metadata": {
        "cell_id": "b42860a826024a728d12c334d7ff8d29",
        "deepnote_cell_type": "markdown"
      }
    },
    {
      "cell_type": "code",
      "source": "friends = {}\n# your solution here\n\nfor user_id in followers and members:\n    friends[user_id]=[]\n    for user_id2 in followers and members:\n        if user_id in followers[user_id2] and user_id in members[user_id2][\"following\"]:\n            friends[user_id].append(user_id2)\n\nfriends",
      "metadata": {
        "cell_id": "a0f48484bff246f3adb39d9a8fab10d4",
        "source_hash": "aa0b0b1d",
        "execution_start": 1664869102903,
        "execution_millis": 1,
        "deepnote_to_be_reexecuted": false,
        "deepnote_cell_type": "code"
      },
      "outputs": [
        {
          "data": {
            "text/plain": "{1: [11, 17, 18],\n 2: [3, 8],\n 3: [2, 4, 8],\n 4: [3, 14],\n 5: [7, 10],\n 6: [],\n 7: [5, 9, 16],\n 8: [2, 3, 10],\n 9: [7],\n 10: [5, 8, 13, 15, 19],\n 11: [1, 17, 18],\n 12: [],\n 13: [10, 14, 15, 16, 19],\n 14: [4, 13],\n 15: [10, 13],\n 16: [7, 13, 18],\n 17: [1, 11, 20],\n 18: [1, 11, 16],\n 19: [10, 13],\n 20: [17]}"
          },
          "execution_count": 7,
          "metadata": {},
          "output_type": "execute_result"
        }
      ],
      "execution_count": 7
    },
    {
      "cell_type": "code",
      "source": "test_ex_1_3(members, friends)",
      "metadata": {
        "cell_id": "02b4d28d7d7c4fd7be11e6df8ef063c2",
        "source_hash": "8f8c3637",
        "execution_start": 1664815642005,
        "execution_millis": 4,
        "deepnote_to_be_reexecuted": true,
        "deepnote_cell_type": "code"
      },
      "outputs": [
        {
          "name": "stdout",
          "output_type": "stream",
          "text": "All basic tests passed!\n"
        }
      ],
      "execution_count": 8
    },
    {
      "cell_type": "markdown",
      "source": "#### 1.4 Common friends. (4pt)\n\nIn this exercise you are to generate a list of common friends between two users. Pick any two users and assign their identifiers to the variables `user1` and `user2` provided in the next cell. Then, compute the list of common friends between `user1` and `user2` and assign it to the variable `common`. The list `common` should be a list of user identifiers, or the empty list if there are no common friends between both users.\n\n**Note**: The order of the `common` list is irrelevant to the correctness of the exercise.\n\n**Hint**: Use the `friends` dictionary defined in exercise 1.3.\n\n**Examples**:\n+ For users `2` and `3`, the result should be the list `[8]`.\n+ For users `1` and `11`, the result should be the list `[17, 18]`.\n+ For users `1` and `12`, the result should be the empty list (`[]`).",
      "metadata": {
        "cell_id": "68fc1dde04954fbc8d2f694e1e5b16f8",
        "deepnote_cell_type": "markdown"
      }
    },
    {
      "cell_type": "code",
      "source": "user1 = 1   # you can choose another number and your code should run correctly\nuser2 = 11  # you can choose another number and your code should run correctly\ncommon = []\n# your solution here\n\nfor mutual_id in friends[user1]:\n    if mutual_id in friends[user2]:\n        common.append(mutual_id)\ncommon\n",
      "metadata": {
        "cell_id": "7e36db651bc942cba3ff635ed1419ff0",
        "source_hash": "45aae153",
        "execution_start": 1664869110240,
        "execution_millis": 2,
        "deepnote_to_be_reexecuted": false,
        "deepnote_cell_type": "code"
      },
      "outputs": [
        {
          "data": {
            "text/plain": "[17, 18]"
          },
          "execution_count": 9,
          "metadata": {},
          "output_type": "execute_result"
        }
      ],
      "execution_count": 9
    },
    {
      "cell_type": "code",
      "source": "test_ex_1_4(members, user1, user2, common)",
      "metadata": {
        "cell_id": "4f75b4f767ec4ad08570b9b5eff2bb58",
        "source_hash": "bb648d54",
        "execution_start": 1664815642014,
        "execution_millis": 3,
        "deepnote_to_be_reexecuted": true,
        "deepnote_cell_type": "code"
      },
      "outputs": [
        {
          "name": "stdout",
          "output_type": "stream",
          "text": "All basic tests passed!\n"
        }
      ],
      "execution_count": 10
    },
    {
      "cell_type": "markdown",
      "source": "#### 1.5 Suggested friends. (4pt)\nIn this exercise you will provide users with suggestions on potential friends. We define a _suggestion_ as follows:\n\nSuppose `1` is friends with `2`, and `2` is friends with `3`. If `3` is not friends with `1`, they will be suggested as a friend. The figure below illustrates this concept.\n\n![Picture title](image-20221003-170750.png)\n\nCreate the dictionary of suggestions, grouped by user identifier, and assign it to variable `suggestions`. The dictionary should be structured as follows:\n+ The key should be the user identifier.\n+ The value should be a list of user identifiers to be suggested as friends, or the empty list if no suggestions exist. Note that this list should have no duplicates.\n\n**Note**: The order of the value lists in the dictionary is irrelevant to the correctness of the exercise.\n\n**Hint**: Use the `friends` dictionary defined in the exercise 1.3.\n\n**Examples**:\n+ For user `2`, the value should be the list `[4, 10]`.\n+ For user `12`, the value should be the empty list (`[]`).\n+ For user `18`, the value should be the list `[17, 7, 13]`.",
      "metadata": {
        "cell_id": "3e3ce53f15f74ec083a7b08d7e6a6fe1",
        "deepnote_cell_type": "markdown"
      }
    },
    {
      "cell_type": "markdown",
      "source": "",
      "metadata": {
        "cell_id": "26e6f0952eda45c4ae58a6f0cd5f6d97",
        "tags": [],
        "deepnote_cell_type": "markdown"
      }
    },
    {
      "cell_type": "code",
      "source": "suggestions = {}\n# your solution here\nfor user1, friends_list_1 in friends.items():\n    suggestions[user1]=[]\n    for user2 in friends:\n        if user1 == user2:\n            continue;\n        common=[]\n        for mutual_id in friends[user1]:\n            if mutual_id in friends[user2]:\n                common.append(mutual_id)\n        if len(common)> 0 and user2 not in friends_list_1:\n            suggestions[user1].append(user2)\nsuggestions",
      "metadata": {
        "cell_id": "fe0106fff6d0402b80fca193a65ff6c5",
        "source_hash": "23539cc",
        "execution_start": 1664869118447,
        "execution_millis": 1,
        "deepnote_to_be_reexecuted": false,
        "deepnote_cell_type": "code"
      },
      "outputs": [
        {
          "data": {
            "text/plain": "{1: [16, 20],\n 2: [4, 10],\n 3: [10, 14],\n 4: [2, 8, 13],\n 5: [8, 9, 13, 15, 16, 19],\n 6: [],\n 7: [10, 13, 18],\n 8: [4, 5, 13, 15, 19],\n 9: [5, 16],\n 10: [2, 3, 7, 14, 16],\n 11: [16, 20],\n 12: [],\n 13: [4, 5, 7, 8, 18],\n 14: [3, 10, 15, 16, 19],\n 15: [5, 8, 14, 16, 19],\n 16: [1, 5, 9, 10, 11, 14, 15, 19],\n 17: [18],\n 18: [7, 13, 17],\n 19: [5, 8, 14, 15, 16],\n 20: [1, 11]}"
          },
          "execution_count": 11,
          "metadata": {},
          "output_type": "execute_result"
        }
      ],
      "execution_count": 11
    },
    {
      "cell_type": "code",
      "source": "test_ex_1_5(members, suggestions)",
      "metadata": {
        "cell_id": "839faf43e9794cc28caef509ea3cb13b",
        "source_hash": "2d74edf3",
        "execution_start": 1664815642064,
        "execution_millis": 3,
        "deepnote_to_be_reexecuted": true,
        "deepnote_cell_type": "code"
      },
      "outputs": [
        {
          "name": "stdout",
          "output_type": "stream",
          "text": "All basic tests passed!\n"
        }
      ],
      "execution_count": 12
    },
    {
      "cell_type": "markdown",
      "source": "#### 1.6 Send out notifications. (3pt)\nPick any user you want and assign their identifier to the variable `user` in the cell below. Then create a list of notifications for each suggestion for this user and assign it to the variable `notifications`. The format of each notification should be:\n\n    Hey, <username>. You might want to add <friend> from <country> as a friend.\n\nwhere `<username>` is the user's name, and `<friend>` and `<country>` are the suggested friend's name and country, respectively.\n\n**Note**: The order of the `notifications` list is irrelevant to the correctness of the exercise.\n\n**Hint**: Use the `suggestions` dictionary defined in the exercise 1.5.\n\n**Examples**:\n+ For user `1`, the result should be the list \n    \n`['Hey, Farly Waller. You might want to add Annadiane Mum from Japan as a friend.', 'Hey, Farly Waller. You might want to add Celestina Phillipps from Canada as a friend.'].`\n \n+ For user `12`, the result should be the empty list (`[]`).\n+ For user `7`, the value should be the list \n\n`['Hey, Pris Pilmore. You might want to add Gayle Testin from Brazil as a friend.',\n 'Hey, Pris Pilmore. You might want to add Clarice Shelmardine from Portugal as a friend.',\n 'Hey, Pris Pilmore. You might want to add Gwynne Toplis from China as a friend.']`.",
      "metadata": {
        "cell_id": "d21b2866f7504822a29d8541482419db",
        "deepnote_cell_type": "markdown"
      }
    },
    {
      "cell_type": "code",
      "source": "user = 3\nnotifications = []\n# your solution here\nfor suggestion_id in suggestions[user]:\n    username = members[user][\"name\"]\n    friend = members[suggestion_id]\n    friend_name = friend[\"name\"]\n    friend_country = friend[\"country\"]\n    \n    notification=f\"Hey, {username}. You might want to add {friend_name} from {friend_country} as a friend.\"\n    \n    notifications.append(notification)\n    \nnotifications",
      "metadata": {
        "cell_id": "82434ac39e74498398e3842db813d842",
        "source_hash": "b9021b2e",
        "execution_start": 1664869121987,
        "execution_millis": 2,
        "deepnote_to_be_reexecuted": false,
        "deepnote_cell_type": "code"
      },
      "outputs": [
        {
          "data": {
            "text/plain": "['Hey, Yale Shortan. You might want to add Gayle Testin from Brazil as a friend.',\n 'Hey, Yale Shortan. You might want to add Julie Corradeschi from Peru as a friend.']"
          },
          "execution_count": 13,
          "metadata": {},
          "output_type": "execute_result"
        }
      ],
      "execution_count": 13
    },
    {
      "cell_type": "code",
      "source": "test_ex_1_6(members, user, notifications)",
      "metadata": {
        "cell_id": "3570bc57340e473083fb09229a04a64c",
        "source_hash": "f12ad1b3",
        "output_cleared": false,
        "execution_start": 1664815661693,
        "execution_millis": 20,
        "deepnote_to_be_reexecuted": true,
        "deepnote_cell_type": "code"
      },
      "outputs": [
        {
          "name": "stdout",
          "output_type": "stream",
          "text": "All basic tests passed!\n"
        }
      ],
      "execution_count": 14
    },
    {
      "cell_type": "markdown",
      "source": "<a style='text-decoration:none;line-height:16px;display:flex;color:#5B5B62;padding:10px;justify-content:end;' href='https://deepnote.com?utm_source=created-in-deepnote-cell&projectId=7f5d00ac-b4c5-446d-ac1a-be8f6a9b06b3' target=\"_blank\">\n<img alt='Created in deepnote.com' style='display:inline;max-height:16px;margin:0px;margin-right:7.5px;' src='data:image/svg+xml;base64,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' > </img>\nCreated in <span style='font-weight:600;margin-left:4px;'>Deepnote</span></a>",
      "metadata": {
        "created_in_deepnote_cell": true,
        "deepnote_cell_type": "markdown"
      }
    }
  ],
  "nbformat": 4,
  "nbformat_minor": 0,
  "metadata": {
    "deepnote": {},
    "kernelspec": {
      "name": "python3",
      "language": "python",
      "display_name": "Python 3 (ipykernel)"
    },
    "language_info": {
      "name": "python",
      "version": "3.9.12",
      "mimetype": "text/x-python",
      "file_extension": ".py",
      "pygments_lexer": "ipython3",
      "codemirror_mode": {
        "name": "ipython",
        "version": 3
      },
      "nbconvert_exporter": "python"
    },
    "deepnote_notebook_id": "1905b6d2962249c0913bf089b066f322",
    "deepnote_execution_queue": [],
    "deepnote_persisted_session": {
      "createdAt": "2022-10-04T08:01:21.054Z"
    }
  }
}